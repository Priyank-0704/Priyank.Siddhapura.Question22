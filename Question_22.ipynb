{
 "cells": [
  {
   "cell_type": "markdown",
   "id": "dd82b0d2",
   "metadata": {},
   "source": [
    "# Question 22"
   ]
  },
  {
   "cell_type": "code",
   "execution_count": 1,
   "id": "d03d59c4",
   "metadata": {},
   "outputs": [],
   "source": [
    "import sqlite3\n",
    "\n",
    "con = sqlite3.connect('weather.db')       \n",
    "cur = con.cursor()\n",
    "cur.execute(\"CREATE TABLE weather (id int, recordDate date, temperature int)\") \n",
    "# Inserting data to the table\n",
    "cur.execute(\"INSERT INTO weather VALUES (1, '2015-01-01', 10)\")\n",
    "cur.execute(\"INSERT INTO weather VALUES (2, '2015-01-02', 25)\")\n",
    "cur.execute(\"INSERT INTO weather VALUES (3, '2015-01-03', 20)\")\n",
    "cur.execute(\"INSERT INTO weather VALUES (4, '2015-01-04', 30)\")\n",
    "\n",
    "con.commit()\n",
    "con.close()"
   ]
  },
  {
   "cell_type": "code",
   "execution_count": 2,
   "id": "600a6d43",
   "metadata": {},
   "outputs": [
    {
     "name": "stdout",
     "output_type": "stream",
     "text": [
      "2\n",
      "4\n"
     ]
    }
   ],
   "source": [
    "con = sqlite3.connect('weather.db')\n",
    "cur = con.cursor()\n",
    "cur.execute('''SELECT weather1.id FROM weather weather1 \n",
    "            JOIN weather weather2 ON weather1.recordDate = DATE (weather2.recordDate, '+1 day') \n",
    "            WHERE weather1.temperature > weather2.temperature''')     \n",
    "output = cur.fetchall()\n",
    "\n",
    "for r in output:\n",
    "    print(r[0])\n",
    "    "
   ]
  },
  {
   "cell_type": "code",
   "execution_count": null,
   "id": "7e0aa4e8",
   "metadata": {},
   "outputs": [],
   "source": []
  }
 ],
 "metadata": {
  "kernelspec": {
   "display_name": "Python 3 (ipykernel)",
   "language": "python",
   "name": "python3"
  },
  "language_info": {
   "codemirror_mode": {
    "name": "ipython",
    "version": 3
   },
   "file_extension": ".py",
   "mimetype": "text/x-python",
   "name": "python",
   "nbconvert_exporter": "python",
   "pygments_lexer": "ipython3",
   "version": "3.11.4"
  }
 },
 "nbformat": 4,
 "nbformat_minor": 5
}
